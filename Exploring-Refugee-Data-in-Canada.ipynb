{
 "cells": [
  {
   "cell_type": "markdown",
   "id": "c6b7d4b4",
   "metadata": {},
   "source": [
    "# Exploring Refugee Data in Canada"
   ]
  },
  {
   "cell_type": "markdown",
   "id": "470f2eff",
   "metadata": {},
   "source": [
    "# Table of Contents:\n",
    "\n",
    "1. Introduction\n",
    "2. Data\n",
    "3. Exploratory Data Analysis (EDA)\n",
    "4. Conclusion"
   ]
  },
  {
   "cell_type": "markdown",
   "id": "372c1f6a",
   "metadata": {},
   "source": [
    "# 1. Introduction\n",
    "\n",
    "The project \"Exploring Refugee Data in Canada\" is primarily focused on a demographic analysis of refugees and asylum-seekers within Canada between 2012 and 2022. However, it recognizes that these demographic insights serve as a foundation for multidisciplinary analyses. The data can be instrumental in understanding political, demographic, socioeconomic, and human rights aspects. For example, it can inform policy decisions, shed light on demographic trends, and provide insights into their impact on the labor market, local economy, and education. "
   ]
  },
  {
   "cell_type": "markdown",
   "id": "13ea7884",
   "metadata": {},
   "source": [
    "# 2. Data: \n",
    "\n",
    "- **Year:** This variable represents the specific year of data collection or reporting. It serves as a time reference point for observing trends and changes in refugee and asylum-seeker data over time.\n",
    "\n",
    "\n",
    "- **Country-of-origin:** This variable indicates the home country or nation from which refugees and asylum-seekers originate. It provides information about their geographic source, which is essential for understanding migration patterns and international displacement.\n",
    "\n",
    "\n",
    "- **UNHCR Refugees:** This figure represents the number of individuals from the specified country of origin who have been officially recognized and registered as refugees by the United Nations High Commissioner for Refugees (UNHCR). These individuals have fled their home country due to persecution, conflict, or other humanitarian crises.\n",
    "\n",
    "\n",
    "- **Asylum-seekers:** This variable denotes the number of individuals from the specified country of origin who have applied for asylum in Canada. Asylum-seekers seek protection and legal status in Canada, often because they fear persecution or harm in their home country.\n",
    "\n",
    "\n",
    "- **Total Count:** The \"Total Count\" is a likely combination of \"UNHCR Refugees\" and \"Asylum-seekers\" figures. It provides an overall count of individuals from the country of origin who have either been recognized as refugees or have applied for asylum in Canada during the specified year. This variable offers a comprehensive view of the total displaced population from a particular country in that specific year."
   ]
  },
  {
   "cell_type": "markdown",
   "id": "12e3eac2",
   "metadata": {},
   "source": [
    "**First I am going to import all the libraries that I will use in the project and open the dataset:**"
   ]
  },
  {
   "cell_type": "code",
   "execution_count": 1,
   "id": "353b5a2b",
   "metadata": {},
   "outputs": [],
   "source": [
    "import numpy as np\n",
    "import pandas as pd\n",
    "import seaborn as sns\n",
    "import matplotlib.pyplot as plt\n",
    "%matplotlib inline"
   ]
  },
  {
   "cell_type": "markdown",
   "id": "15359c93",
   "metadata": {},
   "source": [
    "# 3. Exploratory Data Analysis (EDA)"
   ]
  },
  {
   "cell_type": "code",
   "execution_count": 2,
   "id": "5417de38",
   "metadata": {},
   "outputs": [
    {
     "data": {
      "text/html": [
       "<div>\n",
       "<style scoped>\n",
       "    .dataframe tbody tr th:only-of-type {\n",
       "        vertical-align: middle;\n",
       "    }\n",
       "\n",
       "    .dataframe tbody tr th {\n",
       "        vertical-align: top;\n",
       "    }\n",
       "\n",
       "    .dataframe thead th {\n",
       "        text-align: right;\n",
       "    }\n",
       "</style>\n",
       "<table border=\"1\" class=\"dataframe\">\n",
       "  <thead>\n",
       "    <tr style=\"text-align: right;\">\n",
       "      <th></th>\n",
       "      <th>Year</th>\n",
       "      <th>Country-of-origin</th>\n",
       "      <th>UNHCR-refugees</th>\n",
       "      <th>Asylum-seekers</th>\n",
       "      <th>total-count</th>\n",
       "    </tr>\n",
       "  </thead>\n",
       "  <tbody>\n",
       "    <tr>\n",
       "      <th>0</th>\n",
       "      <td>2012</td>\n",
       "      <td>Afghanistan</td>\n",
       "      <td>2609</td>\n",
       "      <td>411</td>\n",
       "      <td>3020</td>\n",
       "    </tr>\n",
       "    <tr>\n",
       "      <th>1</th>\n",
       "      <td>2012</td>\n",
       "      <td>Albania</td>\n",
       "      <td>1764</td>\n",
       "      <td>579</td>\n",
       "      <td>2343</td>\n",
       "    </tr>\n",
       "    <tr>\n",
       "      <th>2</th>\n",
       "      <td>2012</td>\n",
       "      <td>Algeria</td>\n",
       "      <td>513</td>\n",
       "      <td>284</td>\n",
       "      <td>797</td>\n",
       "    </tr>\n",
       "    <tr>\n",
       "      <th>3</th>\n",
       "      <td>2012</td>\n",
       "      <td>Angola</td>\n",
       "      <td>753</td>\n",
       "      <td>21</td>\n",
       "      <td>774</td>\n",
       "    </tr>\n",
       "    <tr>\n",
       "      <th>4</th>\n",
       "      <td>2012</td>\n",
       "      <td>Antigua and Barbuda</td>\n",
       "      <td>40</td>\n",
       "      <td>30</td>\n",
       "      <td>70</td>\n",
       "    </tr>\n",
       "  </tbody>\n",
       "</table>\n",
       "</div>"
      ],
      "text/plain": [
       "   Year    Country-of-origin  UNHCR-refugees  Asylum-seekers  total-count\n",
       "0  2012          Afghanistan            2609             411         3020\n",
       "1  2012              Albania            1764             579         2343\n",
       "2  2012              Algeria             513             284          797\n",
       "3  2012               Angola             753              21          774\n",
       "4  2012  Antigua and Barbuda              40              30           70"
      ]
     },
     "execution_count": 2,
     "metadata": {},
     "output_type": "execute_result"
    }
   ],
   "source": [
    "# Read dataset\n",
    "data = pd.read_csv('can-stats-2012-22.csv')\n",
    "data.head()"
   ]
  },
  {
   "cell_type": "code",
   "execution_count": 3,
   "id": "3ee577dd",
   "metadata": {},
   "outputs": [
    {
     "name": "stdout",
     "output_type": "stream",
     "text": [
      "The dataset has 1870 instances (rows) and 5 features (columns).\n"
     ]
    }
   ],
   "source": [
    "data.shape\n",
    "print('The dataset has {} instances (rows) and {} features (columns).'.format(data.shape[0],data.shape[1]))"
   ]
  },
  {
   "cell_type": "markdown",
   "id": "e902875d",
   "metadata": {},
   "source": [
    "**With the following code I want to identify if the dataset has null values. In addition, I want to identify the data types that the dataset has:**"
   ]
  },
  {
   "cell_type": "code",
   "execution_count": 4,
   "id": "551c870a",
   "metadata": {},
   "outputs": [
    {
     "data": {
      "text/html": [
       "<div>\n",
       "<style scoped>\n",
       "    .dataframe tbody tr th:only-of-type {\n",
       "        vertical-align: middle;\n",
       "    }\n",
       "\n",
       "    .dataframe tbody tr th {\n",
       "        vertical-align: top;\n",
       "    }\n",
       "\n",
       "    .dataframe thead th {\n",
       "        text-align: right;\n",
       "    }\n",
       "</style>\n",
       "<table border=\"1\" class=\"dataframe\">\n",
       "  <thead>\n",
       "    <tr style=\"text-align: right;\">\n",
       "      <th></th>\n",
       "      <th>Missing Values</th>\n",
       "    </tr>\n",
       "  </thead>\n",
       "  <tbody>\n",
       "    <tr>\n",
       "      <th>Year</th>\n",
       "      <td>0</td>\n",
       "    </tr>\n",
       "    <tr>\n",
       "      <th>Country-of-origin</th>\n",
       "      <td>0</td>\n",
       "    </tr>\n",
       "    <tr>\n",
       "      <th>UNHCR-refugees</th>\n",
       "      <td>0</td>\n",
       "    </tr>\n",
       "    <tr>\n",
       "      <th>Asylum-seekers</th>\n",
       "      <td>0</td>\n",
       "    </tr>\n",
       "    <tr>\n",
       "      <th>total-count</th>\n",
       "      <td>0</td>\n",
       "    </tr>\n",
       "  </tbody>\n",
       "</table>\n",
       "</div>"
      ],
      "text/plain": [
       "                   Missing Values\n",
       "Year                            0\n",
       "Country-of-origin               0\n",
       "UNHCR-refugees                  0\n",
       "Asylum-seekers                  0\n",
       "total-count                     0"
      ]
     },
     "execution_count": 4,
     "metadata": {},
     "output_type": "execute_result"
    }
   ],
   "source": [
    "# Check missing values\n",
    "pd.DataFrame(data.isnull().sum(), columns=['Missing Values'])"
   ]
  },
  {
   "cell_type": "code",
   "execution_count": 5,
   "id": "13faf78e",
   "metadata": {},
   "outputs": [
    {
     "name": "stdout",
     "output_type": "stream",
     "text": [
      "<class 'pandas.core.frame.DataFrame'>\n",
      "RangeIndex: 1870 entries, 0 to 1869\n",
      "Data columns (total 5 columns):\n",
      " #   Column             Non-Null Count  Dtype \n",
      "---  ------             --------------  ----- \n",
      " 0   Year               1870 non-null   int64 \n",
      " 1   Country-of-origin  1870 non-null   object\n",
      " 2   UNHCR-refugees     1870 non-null   int64 \n",
      " 3   Asylum-seekers     1870 non-null   int64 \n",
      " 4   total-count        1870 non-null   int64 \n",
      "dtypes: int64(4), object(1)\n",
      "memory usage: 73.2+ KB\n"
     ]
    }
   ],
   "source": [
    "data.info()"
   ]
  },
  {
   "cell_type": "markdown",
   "id": "0f59497c",
   "metadata": {},
   "source": [
    "**The dataset has no null values, so I don't need to do the imputation. Also, the dataset has 4 integer data and 1 object data**."
   ]
  },
  {
   "cell_type": "code",
   "execution_count": 6,
   "id": "23529c62",
   "metadata": {},
   "outputs": [
    {
     "data": {
      "text/html": [
       "<div>\n",
       "<style scoped>\n",
       "    .dataframe tbody tr th:only-of-type {\n",
       "        vertical-align: middle;\n",
       "    }\n",
       "\n",
       "    .dataframe tbody tr th {\n",
       "        vertical-align: top;\n",
       "    }\n",
       "\n",
       "    .dataframe thead th {\n",
       "        text-align: right;\n",
       "    }\n",
       "</style>\n",
       "<table border=\"1\" class=\"dataframe\">\n",
       "  <thead>\n",
       "    <tr style=\"text-align: right;\">\n",
       "      <th></th>\n",
       "      <th>Year</th>\n",
       "      <th>UNHCR-refugees</th>\n",
       "      <th>Asylum-seekers</th>\n",
       "      <th>total-count</th>\n",
       "    </tr>\n",
       "  </thead>\n",
       "  <tbody>\n",
       "    <tr>\n",
       "      <th>count</th>\n",
       "      <td>1870.000000</td>\n",
       "      <td>1870.000000</td>\n",
       "      <td>1870.000000</td>\n",
       "      <td>1870.000000</td>\n",
       "    </tr>\n",
       "    <tr>\n",
       "      <th>mean</th>\n",
       "      <td>2016.955615</td>\n",
       "      <td>752.438503</td>\n",
       "      <td>323.139572</td>\n",
       "      <td>1075.578075</td>\n",
       "    </tr>\n",
       "    <tr>\n",
       "      <th>std</th>\n",
       "      <td>3.167123</td>\n",
       "      <td>2427.738942</td>\n",
       "      <td>1181.143362</td>\n",
       "      <td>2980.751399</td>\n",
       "    </tr>\n",
       "    <tr>\n",
       "      <th>min</th>\n",
       "      <td>2012.000000</td>\n",
       "      <td>0.000000</td>\n",
       "      <td>0.000000</td>\n",
       "      <td>0.000000</td>\n",
       "    </tr>\n",
       "    <tr>\n",
       "      <th>25%</th>\n",
       "      <td>2014.000000</td>\n",
       "      <td>20.000000</td>\n",
       "      <td>7.000000</td>\n",
       "      <td>39.250000</td>\n",
       "    </tr>\n",
       "    <tr>\n",
       "      <th>50%</th>\n",
       "      <td>2017.000000</td>\n",
       "      <td>124.000000</td>\n",
       "      <td>36.000000</td>\n",
       "      <td>187.000000</td>\n",
       "    </tr>\n",
       "    <tr>\n",
       "      <th>75%</th>\n",
       "      <td>2020.000000</td>\n",
       "      <td>563.750000</td>\n",
       "      <td>195.250000</td>\n",
       "      <td>889.750000</td>\n",
       "    </tr>\n",
       "    <tr>\n",
       "      <th>max</th>\n",
       "      <td>2022.000000</td>\n",
       "      <td>75098.000000</td>\n",
       "      <td>19765.000000</td>\n",
       "      <td>75294.000000</td>\n",
       "    </tr>\n",
       "  </tbody>\n",
       "</table>\n",
       "</div>"
      ],
      "text/plain": [
       "              Year  UNHCR-refugees  Asylum-seekers   total-count\n",
       "count  1870.000000     1870.000000     1870.000000   1870.000000\n",
       "mean   2016.955615      752.438503      323.139572   1075.578075\n",
       "std       3.167123     2427.738942     1181.143362   2980.751399\n",
       "min    2012.000000        0.000000        0.000000      0.000000\n",
       "25%    2014.000000       20.000000        7.000000     39.250000\n",
       "50%    2017.000000      124.000000       36.000000    187.000000\n",
       "75%    2020.000000      563.750000      195.250000    889.750000\n",
       "max    2022.000000    75098.000000    19765.000000  75294.000000"
      ]
     },
     "execution_count": 6,
     "metadata": {},
     "output_type": "execute_result"
    }
   ],
   "source": [
    "# Check the main statistical data of the dataset\n",
    "data.describe()"
   ]
  },
  {
   "cell_type": "markdown",
   "id": "987de2d3",
   "metadata": {},
   "source": [
    "# As part of the Exploratory Analysis I would like to answer some questions such as:\n",
    "\n",
    "- **Which countries have contributed the highest number of refugees admitted to Canada?**"
   ]
  },
  {
   "cell_type": "code",
   "execution_count": 7,
   "id": "c5ad5946",
   "metadata": {},
   "outputs": [
    {
     "data": {
      "text/html": [
       "<style type=\"text/css\">\n",
       "#T_2021c_row0_col1 {\n",
       "  width: 10em;\n",
       "  background: linear-gradient(90deg, #00ffff 100.0%, transparent 100.0%);\n",
       "}\n",
       "#T_2021c_row1_col1 {\n",
       "  width: 10em;\n",
       "  background: linear-gradient(90deg, #17e8ff 90.9%, transparent 90.9%);\n",
       "}\n",
       "#T_2021c_row2_col1 {\n",
       "  width: 10em;\n",
       "  background: linear-gradient(90deg, #2fd0ff 81.5%, transparent 81.5%);\n",
       "}\n",
       "#T_2021c_row3_col1 {\n",
       "  width: 10em;\n",
       "  background: linear-gradient(90deg, #4fb0ff 68.9%, transparent 68.9%);\n",
       "}\n",
       "#T_2021c_row4_col1 {\n",
       "  width: 10em;\n",
       "  background: linear-gradient(90deg, #58a7ff 65.4%, transparent 65.4%);\n",
       "}\n",
       "#T_2021c_row5_col1 {\n",
       "  width: 10em;\n",
       "  background: linear-gradient(90deg, #639cff 61.2%, transparent 61.2%);\n",
       "}\n",
       "#T_2021c_row6_col1 {\n",
       "  width: 10em;\n",
       "  background: linear-gradient(90deg, #718eff 55.9%, transparent 55.9%);\n",
       "}\n",
       "#T_2021c_row7_col1 {\n",
       "  width: 10em;\n",
       "  background: linear-gradient(90deg, #8778ff 47.1%, transparent 47.1%);\n",
       "}\n",
       "#T_2021c_row8_col1 {\n",
       "  width: 10em;\n",
       "  background: linear-gradient(90deg, #9b64ff 39.2%, transparent 39.2%);\n",
       "}\n",
       "#T_2021c_row9_col1 {\n",
       "  width: 10em;\n",
       "  background: linear-gradient(90deg, #9f60ff 37.7%, transparent 37.7%);\n",
       "}\n",
       "</style>\n",
       "<table id=\"T_2021c\">\n",
       "  <thead>\n",
       "    <tr>\n",
       "      <th class=\"blank level0\" >&nbsp;</th>\n",
       "      <th id=\"T_2021c_level0_col0\" class=\"col_heading level0 col0\" >Country-of-origin</th>\n",
       "      <th id=\"T_2021c_level0_col1\" class=\"col_heading level0 col1\" >UNHCR-refugees</th>\n",
       "    </tr>\n",
       "  </thead>\n",
       "  <tbody>\n",
       "    <tr>\n",
       "      <th id=\"T_2021c_level0_row0\" class=\"row_heading level0 row0\" >0</th>\n",
       "      <td id=\"T_2021c_row0_col0\" class=\"data row0 col0\" >Colombia</td>\n",
       "      <td id=\"T_2021c_row0_col1\" class=\"data row0 col1\" >108416</td>\n",
       "    </tr>\n",
       "    <tr>\n",
       "      <th id=\"T_2021c_level0_row1\" class=\"row_heading level0 row1\" >1</th>\n",
       "      <td id=\"T_2021c_row1_col0\" class=\"data row1 col0\" >China</td>\n",
       "      <td id=\"T_2021c_row1_col1\" class=\"data row1 col1\" >98586</td>\n",
       "    </tr>\n",
       "    <tr>\n",
       "      <th id=\"T_2021c_level0_row2\" class=\"row_heading level0 row2\" >2</th>\n",
       "      <td id=\"T_2021c_row2_col0\" class=\"data row2 col0\" >Ukraine</td>\n",
       "      <td id=\"T_2021c_row2_col1\" class=\"data row2 col1\" >88376</td>\n",
       "    </tr>\n",
       "    <tr>\n",
       "      <th id=\"T_2021c_level0_row3\" class=\"row_heading level0 row3\" >3</th>\n",
       "      <td id=\"T_2021c_row3_col0\" class=\"data row3 col0\" >Pakistan</td>\n",
       "      <td id=\"T_2021c_row3_col1\" class=\"data row3 col1\" >74737</td>\n",
       "    </tr>\n",
       "    <tr>\n",
       "      <th id=\"T_2021c_level0_row4\" class=\"row_heading level0 row4\" >4</th>\n",
       "      <td id=\"T_2021c_row4_col0\" class=\"data row4 col0\" >Haiti</td>\n",
       "      <td id=\"T_2021c_row4_col1\" class=\"data row4 col1\" >70956</td>\n",
       "    </tr>\n",
       "    <tr>\n",
       "      <th id=\"T_2021c_level0_row5\" class=\"row_heading level0 row5\" >5</th>\n",
       "      <td id=\"T_2021c_row5_col0\" class=\"data row5 col0\" >Sri Lanka</td>\n",
       "      <td id=\"T_2021c_row5_col1\" class=\"data row5 col1\" >66343</td>\n",
       "    </tr>\n",
       "    <tr>\n",
       "      <th id=\"T_2021c_level0_row6\" class=\"row_heading level0 row6\" >6</th>\n",
       "      <td id=\"T_2021c_row6_col0\" class=\"data row6 col0\" >Nigeria</td>\n",
       "      <td id=\"T_2021c_row6_col1\" class=\"data row6 col1\" >60554</td>\n",
       "    </tr>\n",
       "    <tr>\n",
       "      <th id=\"T_2021c_level0_row7\" class=\"row_heading level0 row7\" >7</th>\n",
       "      <td id=\"T_2021c_row7_col0\" class=\"data row7 col0\" >Mexico</td>\n",
       "      <td id=\"T_2021c_row7_col1\" class=\"data row7 col1\" >51072</td>\n",
       "    </tr>\n",
       "    <tr>\n",
       "      <th id=\"T_2021c_level0_row8\" class=\"row_heading level0 row8\" >8</th>\n",
       "      <td id=\"T_2021c_row8_col0\" class=\"data row8 col0\" >Türkiye</td>\n",
       "      <td id=\"T_2021c_row8_col1\" class=\"data row8 col1\" >42533</td>\n",
       "    </tr>\n",
       "    <tr>\n",
       "      <th id=\"T_2021c_level0_row9\" class=\"row_heading level0 row9\" >9</th>\n",
       "      <td id=\"T_2021c_row9_col0\" class=\"data row9 col0\" >Iran (Islamic Rep. of)</td>\n",
       "      <td id=\"T_2021c_row9_col1\" class=\"data row9 col1\" >40881</td>\n",
       "    </tr>\n",
       "  </tbody>\n",
       "</table>\n"
      ],
      "text/plain": [
       "<pandas.io.formats.style.Styler at 0x2d04ec63b20>"
      ]
     },
     "execution_count": 7,
     "metadata": {},
     "output_type": "execute_result"
    }
   ],
   "source": [
    "# Create a DataFrame \n",
    "unhcr_refugees_top = data.groupby('Country-of-origin')['UNHCR-refugees'].sum().reset_index(name='UNHCR-refugees').sort_values(by='UNHCR-refugees', ascending=False).head(10)\n",
    "\n",
    "# Show the dataframe\n",
    "unhcr_refugees_top.reset_index(drop=True).style.bar(cmap='cool_r')"
   ]
  },
  {
   "cell_type": "code",
   "execution_count": 8,
   "id": "a73dea18",
   "metadata": {},
   "outputs": [
    {
     "data": {
      "image/png": "[encoded data removed]",
      "text/plain": [
       "<Figure size 720x432 with 1 Axes>"
      ]
     },
     "metadata": {
      "needs_background": "light"
     },
     "output_type": "display_data"
    }
   ],
   "source": [
    "# Create Seaborn bar graph\n",
    "plt.figure(figsize=(10,6))\n",
    "sns.barplot(data=unhcr_refugees_top, x='Country-of-origin', y='UNHCR-refugees', palette='rocket')\n",
    "\n",
    "# Add labels and titles\n",
    "plt.xlabel('Country of Origin', fontsize=13)\n",
    "plt.ylabel('Number of refugees resettled', fontsize=13)\n",
    "plt.title('Top 10 countries with highest number of refugees resettled in Canada (2012-2022)', fontsize=17)\n",
    "\n",
    "# Rotate x-axis labels\n",
    "plt.xticks(rotation=45, ha='right')\n",
    "\n",
    "# Display plot\n",
    "plt.tight_layout()\n",
    "plt.show()"
   ]
  },
  {
   "cell_type": "markdown",
   "id": "04a671ea",
   "metadata": {},
   "source": [
    "The top 10 countries from which Canada has admitted the highest number of refugees include Colombia, China, Ukraine, Pakistan, Haiti, Sri Lanka, Nigeria, Mexico, Türkiye, and Iran. Colombia has the highest number of admitted refugees."
   ]
  },
  {
   "cell_type": "markdown",
   "id": "6e09001f",
   "metadata": {},
   "source": [
    "- **What is the annual aggregate of refugees resettled in Canada?**"
   ]
  },
  {
   "cell_type": "code",
   "execution_count": 9,
   "id": "726686a7",
   "metadata": {},
   "outputs": [
    {
     "data": {
      "text/html": [
       "<style type=\"text/css\">\n",
       "#T_33ea2_row0_col1 {\n",
       "  width: 10em;\n",
       "  background: linear-gradient(90deg, #00ffff 100.0%, transparent 100.0%);\n",
       "}\n",
       "#T_33ea2_row1_col1 {\n",
       "  width: 10em;\n",
       "  background: linear-gradient(90deg, #05faff 97.9%, transparent 97.9%);\n",
       "}\n",
       "#T_33ea2_row2_col1 {\n",
       "  width: 10em;\n",
       "  background: linear-gradient(90deg, #16e9ff 91.1%, transparent 91.1%);\n",
       "}\n",
       "#T_33ea2_row3_col1 {\n",
       "  width: 10em;\n",
       "  background: linear-gradient(90deg, #2bd4ff 83.0%, transparent 83.0%);\n",
       "}\n",
       "#T_33ea2_row4_col1 {\n",
       "  width: 10em;\n",
       "  background: linear-gradient(90deg, #6798ff 59.4%, transparent 59.4%);\n",
       "}\n",
       "#T_33ea2_row5_col1 {\n",
       "  width: 10em;\n",
       "  background: linear-gradient(90deg, #5ca3ff 64.0%, transparent 64.0%);\n",
       "}\n",
       "#T_33ea2_row6_col1 {\n",
       "  width: 10em;\n",
       "  background: linear-gradient(90deg, #4db2ff 69.7%, transparent 69.7%);\n",
       "}\n",
       "#T_33ea2_row7_col1 {\n",
       "  width: 10em;\n",
       "  background: linear-gradient(90deg, #609fff 62.1%, transparent 62.1%);\n",
       "}\n",
       "#T_33ea2_row8_col1 {\n",
       "  width: 10em;\n",
       "  background: linear-gradient(90deg, #55aaff 66.7%, transparent 66.7%);\n",
       "}\n",
       "#T_33ea2_row9_col1 {\n",
       "  width: 10em;\n",
       "  background: linear-gradient(90deg, #34cbff 79.5%, transparent 79.5%);\n",
       "}\n",
       "#T_33ea2_row10_col1 {\n",
       "  width: 10em;\n",
       "  background: linear-gradient(90deg, #24dbff 85.9%, transparent 85.9%);\n",
       "}\n",
       "</style>\n",
       "<table id=\"T_33ea2\">\n",
       "  <thead>\n",
       "    <tr>\n",
       "      <th class=\"blank level0\" >&nbsp;</th>\n",
       "      <th id=\"T_33ea2_level0_col0\" class=\"col_heading level0 col0\" >Year</th>\n",
       "      <th id=\"T_33ea2_level0_col1\" class=\"col_heading level0 col1\" >UNHCR-refugees</th>\n",
       "    </tr>\n",
       "  </thead>\n",
       "  <tbody>\n",
       "    <tr>\n",
       "      <th id=\"T_33ea2_level0_row0\" class=\"row_heading level0 row0\" >0</th>\n",
       "      <td id=\"T_33ea2_row0_col0\" class=\"data row0 col0\" >2012</td>\n",
       "      <td id=\"T_33ea2_row0_col1\" class=\"data row0 col1\" >163751</td>\n",
       "    </tr>\n",
       "    <tr>\n",
       "      <th id=\"T_33ea2_level0_row1\" class=\"row_heading level0 row1\" >1</th>\n",
       "      <td id=\"T_33ea2_row1_col0\" class=\"data row1 col0\" >2013</td>\n",
       "      <td id=\"T_33ea2_row1_col1\" class=\"data row1 col1\" >160347</td>\n",
       "    </tr>\n",
       "    <tr>\n",
       "      <th id=\"T_33ea2_level0_row2\" class=\"row_heading level0 row2\" >2</th>\n",
       "      <td id=\"T_33ea2_row2_col0\" class=\"data row2 col0\" >2014</td>\n",
       "      <td id=\"T_33ea2_row2_col1\" class=\"data row2 col1\" >149164</td>\n",
       "    </tr>\n",
       "    <tr>\n",
       "      <th id=\"T_33ea2_level0_row3\" class=\"row_heading level0 row3\" >3</th>\n",
       "      <td id=\"T_33ea2_row3_col0\" class=\"data row3 col0\" >2015</td>\n",
       "      <td id=\"T_33ea2_row3_col1\" class=\"data row3 col1\" >135890</td>\n",
       "    </tr>\n",
       "    <tr>\n",
       "      <th id=\"T_33ea2_level0_row4\" class=\"row_heading level0 row4\" >4</th>\n",
       "      <td id=\"T_33ea2_row4_col0\" class=\"data row4 col0\" >2016</td>\n",
       "      <td id=\"T_33ea2_row4_col1\" class=\"data row4 col1\" >97322</td>\n",
       "    </tr>\n",
       "    <tr>\n",
       "      <th id=\"T_33ea2_level0_row5\" class=\"row_heading level0 row5\" >5</th>\n",
       "      <td id=\"T_33ea2_row5_col0\" class=\"data row5 col0\" >2017</td>\n",
       "      <td id=\"T_33ea2_row5_col1\" class=\"data row5 col1\" >104768</td>\n",
       "    </tr>\n",
       "    <tr>\n",
       "      <th id=\"T_33ea2_level0_row6\" class=\"row_heading level0 row6\" >6</th>\n",
       "      <td id=\"T_33ea2_row6_col0\" class=\"data row6 col0\" >2018</td>\n",
       "      <td id=\"T_33ea2_row6_col1\" class=\"data row6 col1\" >114101</td>\n",
       "    </tr>\n",
       "    <tr>\n",
       "      <th id=\"T_33ea2_level0_row7\" class=\"row_heading level0 row7\" >7</th>\n",
       "      <td id=\"T_33ea2_row7_col0\" class=\"data row7 col0\" >2019</td>\n",
       "      <td id=\"T_33ea2_row7_col1\" class=\"data row7 col1\" >101757</td>\n",
       "    </tr>\n",
       "    <tr>\n",
       "      <th id=\"T_33ea2_level0_row8\" class=\"row_heading level0 row8\" >8</th>\n",
       "      <td id=\"T_33ea2_row8_col0\" class=\"data row8 col0\" >2020</td>\n",
       "      <td id=\"T_33ea2_row8_col1\" class=\"data row8 col1\" >109214</td>\n",
       "    </tr>\n",
       "    <tr>\n",
       "      <th id=\"T_33ea2_level0_row9\" class=\"row_heading level0 row9\" >9</th>\n",
       "      <td id=\"T_33ea2_row9_col0\" class=\"data row9 col0\" >2021</td>\n",
       "      <td id=\"T_33ea2_row9_col1\" class=\"data row9 col1\" >130125</td>\n",
       "    </tr>\n",
       "    <tr>\n",
       "      <th id=\"T_33ea2_level0_row10\" class=\"row_heading level0 row10\" >10</th>\n",
       "      <td id=\"T_33ea2_row10_col0\" class=\"data row10 col0\" >2022</td>\n",
       "      <td id=\"T_33ea2_row10_col1\" class=\"data row10 col1\" >140621</td>\n",
       "    </tr>\n",
       "  </tbody>\n",
       "</table>\n"
      ],
      "text/plain": [
       "<pandas.io.formats.style.Styler at 0x2d04ede8ac0>"
      ]
     },
     "execution_count": 9,
     "metadata": {},
     "output_type": "execute_result"
    }
   ],
   "source": [
    "# Create a DataFrame \n",
    "total_refugees_year = data.groupby('Year')['UNHCR-refugees'].sum().reset_index(name='UNHCR-refugees').sort_values(by='Year')\n",
    "\n",
    "# Show the dataframe\n",
    "total_refugees_year.reset_index(drop=True).style.bar(subset=['UNHCR-refugees'], cmap='cool_r')"
   ]
  },
  {
   "cell_type": "code",
   "execution_count": 10,
   "id": "854163e7",
   "metadata": {
    "scrolled": true
   },
   "outputs": [
    {
     "data": {
      "image/png": "[encoded data removed]",
      "text/plain": [
       "<Figure size 576x288 with 1 Axes>"
      ]
     },
     "metadata": {
      "needs_background": "light"
     },
     "output_type": "display_data"
    }
   ],
   "source": [
    "# Create a Seaborn line chart with trendline \n",
    "plt.figure(figsize=(8, 4))\n",
    "sns.lineplot(data=total_refugees_year, x='Year', y='UNHCR-refugees', marker='o',color='purple')\n",
    "sns.regplot(data=total_refugees_year, x='Year', y='UNHCR-refugees', ci=None, color='red')\n",
    "\n",
    "# Add labels and title\n",
    "plt.xlabel('Year', fontsize=13)\n",
    "plt.ylabel('Number of refugees resettled', fontsize=13)\n",
    "plt.title('Total Number of refugees resettled in Canada (2012-2022)', fontsize=17)\n",
    "\n",
    "# Display plot\n",
    "plt.tight_layout()\n",
    "plt.show()"
   ]
  },
  {
   "cell_type": "markdown",
   "id": "6c7b85b8",
   "metadata": {},
   "source": [
    "The number of refugees resettled in Canada has shown variations over the years. The highest number of refugees was admitted in 2012, with a decreasing trend until 2016. Afterward, there was an increase in the number of refugees admitted, with 2022 having the highest number."
   ]
  },
  {
   "cell_type": "markdown",
   "id": "2918151a",
   "metadata": {},
   "source": [
    "- **Countries of Origin for Primary Asylum Claims in Canada**"
   ]
  },
  {
   "cell_type": "code",
   "execution_count": 11,
   "id": "43a53347",
   "metadata": {},
   "outputs": [
    {
     "data": {
      "text/html": [
       "<style type=\"text/css\">\n",
       "#T_dc541_row0_col1 {\n",
       "  width: 10em;\n",
       "  background: linear-gradient(90deg, #00ffff 100.0%, transparent 100.0%);\n",
       "}\n",
       "#T_dc541_row1_col1 {\n",
       "  width: 10em;\n",
       "  background: linear-gradient(90deg, #14ebff 92.0%, transparent 92.0%);\n",
       "}\n",
       "#T_dc541_row2_col1 {\n",
       "  width: 10em;\n",
       "  background: linear-gradient(90deg, #21deff 87.0%, transparent 87.0%);\n",
       "}\n",
       "#T_dc541_row3_col1 {\n",
       "  width: 10em;\n",
       "  background: linear-gradient(90deg, #28d7ff 84.0%, transparent 84.0%);\n",
       "}\n",
       "#T_dc541_row4_col1 {\n",
       "  width: 10em;\n",
       "  background: linear-gradient(90deg, #45baff 72.9%, transparent 72.9%);\n",
       "}\n",
       "#T_dc541_row5_col1 {\n",
       "  width: 10em;\n",
       "  background: linear-gradient(90deg, #748bff 54.3%, transparent 54.3%);\n",
       "}\n",
       "#T_dc541_row6_col1 {\n",
       "  width: 10em;\n",
       "  background: linear-gradient(90deg, #9d62ff 38.4%, transparent 38.4%);\n",
       "}\n",
       "#T_dc541_row7_col1 {\n",
       "  width: 10em;\n",
       "  background: linear-gradient(90deg, #a956ff 33.9%, transparent 33.9%);\n",
       "}\n",
       "#T_dc541_row8_col1 {\n",
       "  width: 10em;\n",
       "  background: linear-gradient(90deg, #ad52ff 32.4%, transparent 32.4%);\n",
       "}\n",
       "#T_dc541_row9_col1 {\n",
       "  width: 10em;\n",
       "  background: linear-gradient(90deg, #bb44ff 26.8%, transparent 26.8%);\n",
       "}\n",
       "</style>\n",
       "<table id=\"T_dc541\">\n",
       "  <thead>\n",
       "    <tr>\n",
       "      <th class=\"blank level0\" >&nbsp;</th>\n",
       "      <th id=\"T_dc541_level0_col0\" class=\"col_heading level0 col0\" >Country-of-origin</th>\n",
       "      <th id=\"T_dc541_level0_col1\" class=\"col_heading level0 col1\" >Asylum-seekers</th>\n",
       "    </tr>\n",
       "  </thead>\n",
       "  <tbody>\n",
       "    <tr>\n",
       "      <th id=\"T_dc541_level0_row0\" class=\"row_heading level0 row0\" >0</th>\n",
       "      <td id=\"T_dc541_row0_col0\" class=\"data row0 col0\" >Unknown</td>\n",
       "      <td id=\"T_dc541_row0_col1\" class=\"data row0 col1\" >56098</td>\n",
       "    </tr>\n",
       "    <tr>\n",
       "      <th id=\"T_dc541_level0_row1\" class=\"row_heading level0 row1\" >1</th>\n",
       "      <td id=\"T_dc541_row1_col0\" class=\"data row1 col0\" >Nigeria</td>\n",
       "      <td id=\"T_dc541_row1_col1\" class=\"data row1 col1\" >51620</td>\n",
       "    </tr>\n",
       "    <tr>\n",
       "      <th id=\"T_dc541_level0_row2\" class=\"row_heading level0 row2\" >2</th>\n",
       "      <td id=\"T_dc541_row2_col0\" class=\"data row2 col0\" >India</td>\n",
       "      <td id=\"T_dc541_row2_col1\" class=\"data row2 col1\" >48806</td>\n",
       "    </tr>\n",
       "    <tr>\n",
       "      <th id=\"T_dc541_level0_row3\" class=\"row_heading level0 row3\" >3</th>\n",
       "      <td id=\"T_dc541_row3_col0\" class=\"data row3 col0\" >Mexico</td>\n",
       "      <td id=\"T_dc541_row3_col1\" class=\"data row3 col1\" >47146</td>\n",
       "    </tr>\n",
       "    <tr>\n",
       "      <th id=\"T_dc541_level0_row4\" class=\"row_heading level0 row4\" >4</th>\n",
       "      <td id=\"T_dc541_row4_col0\" class=\"data row4 col0\" >Haiti</td>\n",
       "      <td id=\"T_dc541_row4_col1\" class=\"data row4 col1\" >40908</td>\n",
       "    </tr>\n",
       "    <tr>\n",
       "      <th id=\"T_dc541_level0_row5\" class=\"row_heading level0 row5\" >5</th>\n",
       "      <td id=\"T_dc541_row5_col0\" class=\"data row5 col0\" >Colombia</td>\n",
       "      <td id=\"T_dc541_row5_col1\" class=\"data row5 col1\" >30475</td>\n",
       "    </tr>\n",
       "    <tr>\n",
       "      <th id=\"T_dc541_level0_row6\" class=\"row_heading level0 row6\" >6</th>\n",
       "      <td id=\"T_dc541_row6_col0\" class=\"data row6 col0\" >China</td>\n",
       "      <td id=\"T_dc541_row6_col1\" class=\"data row6 col1\" >21526</td>\n",
       "    </tr>\n",
       "    <tr>\n",
       "      <th id=\"T_dc541_level0_row7\" class=\"row_heading level0 row7\" >7</th>\n",
       "      <td id=\"T_dc541_row7_col0\" class=\"data row7 col0\" >Pakistan</td>\n",
       "      <td id=\"T_dc541_row7_col1\" class=\"data row7 col1\" >19023</td>\n",
       "    </tr>\n",
       "    <tr>\n",
       "      <th id=\"T_dc541_level0_row8\" class=\"row_heading level0 row8\" >8</th>\n",
       "      <td id=\"T_dc541_row8_col0\" class=\"data row8 col0\" >Türkiye</td>\n",
       "      <td id=\"T_dc541_row8_col1\" class=\"data row8 col1\" >18166</td>\n",
       "    </tr>\n",
       "    <tr>\n",
       "      <th id=\"T_dc541_level0_row9\" class=\"row_heading level0 row9\" >9</th>\n",
       "      <td id=\"T_dc541_row9_col0\" class=\"data row9 col0\" >Iran (Islamic Rep. of)</td>\n",
       "      <td id=\"T_dc541_row9_col1\" class=\"data row9 col1\" >15011</td>\n",
       "    </tr>\n",
       "  </tbody>\n",
       "</table>\n"
      ],
      "text/plain": [
       "<pandas.io.formats.style.Styler at 0x2d04ef34070>"
      ]
     },
     "execution_count": 11,
     "metadata": {},
     "output_type": "execute_result"
    }
   ],
   "source": [
    "# Create a DataFrame \n",
    "asylum_seekers_top = data.groupby('Country-of-origin')['Asylum-seekers'].sum().reset_index(name='Asylum-seekers').sort_values(by='Asylum-seekers', ascending=False).head(10)\n",
    "\n",
    "# Show the dataframe\n",
    "asylum_seekers_top.reset_index(drop=True).style.bar(cmap='cool_r')"
   ]
  },
  {
   "cell_type": "code",
   "execution_count": 12,
   "id": "f24a0519",
   "metadata": {},
   "outputs": [
    {
     "data": {
      "image/png": "[encoded data removed]",
      "text/plain": [
       "<Figure size 720x432 with 1 Axes>"
      ]
     },
     "metadata": {
      "needs_background": "light"
     },
     "output_type": "display_data"
    }
   ],
   "source": [
    "# Create Seaborn bar graph\n",
    "plt.figure(figsize=(10,6))\n",
    "sns.barplot(data=asylum_seekers_top, x='Country-of-origin', y='Asylum-seekers', palette='rocket')\n",
    "\n",
    "# Add labels and title\n",
    "plt.xlabel('Country of Origin', fontsize=13)\n",
    "plt.ylabel('Number of asylum seekers', fontsize=13)\n",
    "plt.title('Top 10 countries with highest number of Asylum Seekers in Canada (2012-2022)', fontsize=17)\n",
    "\n",
    "\n",
    "# Rotate x-axis labels\n",
    "plt.xticks(rotation=45, ha='right')\n",
    "\n",
    "# Display plot\n",
    "plt.tight_layout()\n",
    "plt.show()"
   ]
  },
  {
   "cell_type": "markdown",
   "id": "42ac45cf",
   "metadata": {},
   "source": [
    "The top countries of asylum seekers in Canada are of unknown origin, Nigeria, India, Mexico, Haiti, Colombia, China, Pakistan, Turkey and Iran. Unknown origins are the most common asylum seekers."
   ]
  },
  {
   "cell_type": "markdown",
   "id": "d67a8f7c",
   "metadata": {},
   "source": [
    "- **What is the yearly total of asylum claims submitted in Canada?**"
   ]
  },
  {
   "cell_type": "code",
   "execution_count": 13,
   "id": "51695b44",
   "metadata": {},
   "outputs": [
    {
     "data": {
      "text/html": [
       "<style type=\"text/css\">\n",
       "#T_d428a_row0_col1 {\n",
       "  width: 10em;\n",
       "  background: linear-gradient(90deg, #b649ff 28.9%, transparent 28.9%);\n",
       "}\n",
       "#T_d428a_row1_col1 {\n",
       "  width: 10em;\n",
       "  background: linear-gradient(90deg, #cd32ff 19.6%, transparent 19.6%);\n",
       "}\n",
       "#T_d428a_row2_col1 {\n",
       "  width: 10em;\n",
       "  background: linear-gradient(90deg, #da25ff 14.8%, transparent 14.8%);\n",
       "}\n",
       "#T_d428a_row3_col1 {\n",
       "  width: 10em;\n",
       "  background: linear-gradient(90deg, #d32cff 17.4%, transparent 17.4%);\n",
       "}\n",
       "#T_d428a_row4_col1 {\n",
       "  width: 10em;\n",
       "  background: linear-gradient(90deg, #c936ff 21.2%, transparent 21.2%);\n",
       "}\n",
       "#T_d428a_row5_col1 {\n",
       "  width: 10em;\n",
       "  background: linear-gradient(90deg, #8a75ff 45.9%, transparent 45.9%);\n",
       "}\n",
       "#T_d428a_row6_col1 {\n",
       "  width: 10em;\n",
       "  background: linear-gradient(90deg, #4db2ff 69.7%, transparent 69.7%);\n",
       "}\n",
       "#T_d428a_row7_col1 {\n",
       "  width: 10em;\n",
       "  background: linear-gradient(90deg, #24dbff 85.8%, transparent 85.8%);\n",
       "}\n",
       "#T_d428a_row8_col1 {\n",
       "  width: 10em;\n",
       "  background: linear-gradient(90deg, #3ec1ff 75.5%, transparent 75.5%);\n",
       "}\n",
       "#T_d428a_row9_col1 {\n",
       "  width: 10em;\n",
       "  background: linear-gradient(90deg, #718eff 55.8%, transparent 55.8%);\n",
       "}\n",
       "#T_d428a_row10_col1 {\n",
       "  width: 10em;\n",
       "  background: linear-gradient(90deg, #00ffff 100.0%, transparent 100.0%);\n",
       "}\n",
       "</style>\n",
       "<table id=\"T_d428a\">\n",
       "  <thead>\n",
       "    <tr>\n",
       "      <th class=\"blank level0\" >&nbsp;</th>\n",
       "      <th id=\"T_d428a_level0_col0\" class=\"col_heading level0 col0\" >Year</th>\n",
       "      <th id=\"T_d428a_level0_col1\" class=\"col_heading level0 col1\" >Asylum-seekers</th>\n",
       "    </tr>\n",
       "  </thead>\n",
       "  <tbody>\n",
       "    <tr>\n",
       "      <th id=\"T_d428a_level0_row0\" class=\"row_heading level0 row0\" >0</th>\n",
       "      <td id=\"T_d428a_row0_col0\" class=\"data row0 col0\" >2012</td>\n",
       "      <td id=\"T_d428a_row0_col1\" class=\"data row0 col1\" >32647</td>\n",
       "    </tr>\n",
       "    <tr>\n",
       "      <th id=\"T_d428a_level0_row1\" class=\"row_heading level0 row1\" >1</th>\n",
       "      <td id=\"T_d428a_row1_col0\" class=\"data row1 col0\" >2013</td>\n",
       "      <td id=\"T_d428a_row1_col1\" class=\"data row1 col1\" >22145</td>\n",
       "    </tr>\n",
       "    <tr>\n",
       "      <th id=\"T_d428a_level0_row2\" class=\"row_heading level0 row2\" >2</th>\n",
       "      <td id=\"T_d428a_row2_col0\" class=\"data row2 col0\" >2014</td>\n",
       "      <td id=\"T_d428a_row2_col1\" class=\"data row2 col1\" >16699</td>\n",
       "    </tr>\n",
       "    <tr>\n",
       "      <th id=\"T_d428a_level0_row3\" class=\"row_heading level0 row3\" >3</th>\n",
       "      <td id=\"T_d428a_row3_col0\" class=\"data row3 col0\" >2015</td>\n",
       "      <td id=\"T_d428a_row3_col1\" class=\"data row3 col1\" >19631</td>\n",
       "    </tr>\n",
       "    <tr>\n",
       "      <th id=\"T_d428a_level0_row4\" class=\"row_heading level0 row4\" >4</th>\n",
       "      <td id=\"T_d428a_row4_col0\" class=\"data row4 col0\" >2016</td>\n",
       "      <td id=\"T_d428a_row4_col1\" class=\"data row4 col1\" >23946</td>\n",
       "    </tr>\n",
       "    <tr>\n",
       "      <th id=\"T_d428a_level0_row5\" class=\"row_heading level0 row5\" >5</th>\n",
       "      <td id=\"T_d428a_row5_col0\" class=\"data row5 col0\" >2017</td>\n",
       "      <td id=\"T_d428a_row5_col1\" class=\"data row5 col1\" >51859</td>\n",
       "    </tr>\n",
       "    <tr>\n",
       "      <th id=\"T_d428a_level0_row6\" class=\"row_heading level0 row6\" >6</th>\n",
       "      <td id=\"T_d428a_row6_col0\" class=\"data row6 col0\" >2018</td>\n",
       "      <td id=\"T_d428a_row6_col1\" class=\"data row6 col1\" >78766</td>\n",
       "    </tr>\n",
       "    <tr>\n",
       "      <th id=\"T_d428a_level0_row7\" class=\"row_heading level0 row7\" >7</th>\n",
       "      <td id=\"T_d428a_row7_col0\" class=\"data row7 col0\" >2019</td>\n",
       "      <td id=\"T_d428a_row7_col1\" class=\"data row7 col1\" >97017</td>\n",
       "    </tr>\n",
       "    <tr>\n",
       "      <th id=\"T_d428a_level0_row8\" class=\"row_heading level0 row8\" >8</th>\n",
       "      <td id=\"T_d428a_row8_col0\" class=\"data row8 col0\" >2020</td>\n",
       "      <td id=\"T_d428a_row8_col1\" class=\"data row8 col1\" >85352</td>\n",
       "    </tr>\n",
       "    <tr>\n",
       "      <th id=\"T_d428a_level0_row9\" class=\"row_heading level0 row9\" >9</th>\n",
       "      <td id=\"T_d428a_row9_col0\" class=\"data row9 col0\" >2021</td>\n",
       "      <td id=\"T_d428a_row9_col1\" class=\"data row9 col1\" >63143</td>\n",
       "    </tr>\n",
       "    <tr>\n",
       "      <th id=\"T_d428a_level0_row10\" class=\"row_heading level0 row10\" >10</th>\n",
       "      <td id=\"T_d428a_row10_col0\" class=\"data row10 col0\" >2022</td>\n",
       "      <td id=\"T_d428a_row10_col1\" class=\"data row10 col1\" >113066</td>\n",
       "    </tr>\n",
       "  </tbody>\n",
       "</table>\n"
      ],
      "text/plain": [
       "<pandas.io.formats.style.Styler at 0x2d04edcdca0>"
      ]
     },
     "execution_count": 13,
     "metadata": {},
     "output_type": "execute_result"
    }
   ],
   "source": [
    "# Create a DataFrame \n",
    "asylum_seekers_year = data.groupby('Year')['Asylum-seekers'].sum().reset_index(name='Asylum-seekers').sort_values(by='Year')\n",
    "\n",
    "# Show the dataframe\n",
    "asylum_seekers_year.reset_index(drop=True).style.bar(subset=['Asylum-seekers'], cmap='cool_r')"
   ]
  },
  {
   "cell_type": "code",
   "execution_count": 14,
   "id": "78f6b50a",
   "metadata": {},
   "outputs": [
    {
     "data": {
      "image/png": "[encoded data removed]",
      "text/plain": [
       "<Figure size 576x432 with 1 Axes>"
      ]
     },
     "metadata": {
      "needs_background": "light"
     },
     "output_type": "display_data"
    }
   ],
   "source": [
    "# Create a Seaborn line chart with trendline\n",
    "plt.figure(figsize=(8, 6))\n",
    "sns.lineplot(data=asylum_seekers_year, x='Year', y='Asylum-seekers',marker='o',color='purple')\n",
    "sns.regplot(data=asylum_seekers_year, x='Year', y='Asylum-seekers', ci=None, color='green')\n",
    "\n",
    "# Adding labels and title\n",
    "plt.xlabel('Year', fontsize=13)\n",
    "plt.ylabel('Number of Asylum Seekers', fontsize=13)\n",
    "plt.title('Total Number of Asylum Claims in Canada (2012-2022)', fontsize=17)\n",
    "\n",
    "# Display the plot\n",
    "plt.tight_layout()\n",
    "plt.show()"
   ]
  },
  {
   "cell_type": "markdown",
   "id": "00c52b38",
   "metadata": {},
   "source": [
    "The number of asylum claims submitted in Canada has shown fluctuations over the years. 2022 had the highest number of asylum claims, while 2014 had the lowest. The numbers have been variable but generally increasing in recent years."
   ]
  },
  {
   "cell_type": "markdown",
   "id": "148d3b32",
   "metadata": {},
   "source": [
    "- **Can you outline the overarching patterns in refugee and asylum statistics during the period from 2012 to 2022?**"
   ]
  },
  {
   "cell_type": "code",
   "execution_count": 15,
   "id": "d6d5f2c6",
   "metadata": {},
   "outputs": [
    {
     "data": {
      "text/html": [
       "<style type=\"text/css\">\n",
       "#T_277e3_row0_col1 {\n",
       "  width: 10em;\n",
       "  background: linear-gradient(90deg, #00ffff 100.0%, transparent 100.0%);\n",
       "}\n",
       "#T_277e3_row1_col1 {\n",
       "  width: 10em;\n",
       "  background: linear-gradient(90deg, #22ddff 86.5%, transparent 86.5%);\n",
       "}\n",
       "#T_277e3_row2_col1 {\n",
       "  width: 10em;\n",
       "  background: linear-gradient(90deg, #31ceff 80.8%, transparent 80.8%);\n",
       "}\n",
       "#T_277e3_row3_col1 {\n",
       "  width: 10em;\n",
       "  background: linear-gradient(90deg, #31ceff 80.5%, transparent 80.5%);\n",
       "}\n",
       "#T_277e3_row4_col1 {\n",
       "  width: 10em;\n",
       "  background: linear-gradient(90deg, #4ab5ff 70.7%, transparent 70.7%);\n",
       "}\n",
       "#T_277e3_row5_col1 {\n",
       "  width: 10em;\n",
       "  background: linear-gradient(90deg, #53acff 67.5%, transparent 67.5%);\n",
       "}\n",
       "#T_277e3_row6_col1 {\n",
       "  width: 10em;\n",
       "  background: linear-gradient(90deg, #57a8ff 65.7%, transparent 65.7%);\n",
       "}\n",
       "#T_277e3_row7_col1 {\n",
       "  width: 10em;\n",
       "  background: linear-gradient(90deg, #6996ff 58.9%, transparent 58.9%);\n",
       "}\n",
       "#T_277e3_row8_col1 {\n",
       "  width: 10em;\n",
       "  background: linear-gradient(90deg, #758aff 54.1%, transparent 54.1%);\n",
       "}\n",
       "#T_277e3_row9_col1 {\n",
       "  width: 10em;\n",
       "  background: linear-gradient(90deg, #7a85ff 52.2%, transparent 52.2%);\n",
       "}\n",
       "</style>\n",
       "<table id=\"T_277e3\">\n",
       "  <thead>\n",
       "    <tr>\n",
       "      <th class=\"blank level0\" >&nbsp;</th>\n",
       "      <th id=\"T_277e3_level0_col0\" class=\"col_heading level0 col0\" >Country-of-origin</th>\n",
       "      <th id=\"T_277e3_level0_col1\" class=\"col_heading level0 col1\" >total-count</th>\n",
       "    </tr>\n",
       "  </thead>\n",
       "  <tbody>\n",
       "    <tr>\n",
       "      <th id=\"T_277e3_level0_row0\" class=\"row_heading level0 row0\" >0</th>\n",
       "      <td id=\"T_277e3_row0_col0\" class=\"data row0 col0\" >Colombia</td>\n",
       "      <td id=\"T_277e3_row0_col1\" class=\"data row0 col1\" >138891</td>\n",
       "    </tr>\n",
       "    <tr>\n",
       "      <th id=\"T_277e3_level0_row1\" class=\"row_heading level0 row1\" >1</th>\n",
       "      <td id=\"T_277e3_row1_col0\" class=\"data row1 col0\" >China</td>\n",
       "      <td id=\"T_277e3_row1_col1\" class=\"data row1 col1\" >120112</td>\n",
       "    </tr>\n",
       "    <tr>\n",
       "      <th id=\"T_277e3_level0_row2\" class=\"row_heading level0 row2\" >2</th>\n",
       "      <td id=\"T_277e3_row2_col0\" class=\"data row2 col0\" >Nigeria</td>\n",
       "      <td id=\"T_277e3_row2_col1\" class=\"data row2 col1\" >112174</td>\n",
       "    </tr>\n",
       "    <tr>\n",
       "      <th id=\"T_277e3_level0_row3\" class=\"row_heading level0 row3\" >3</th>\n",
       "      <td id=\"T_277e3_row3_col0\" class=\"data row3 col0\" >Haiti</td>\n",
       "      <td id=\"T_277e3_row3_col1\" class=\"data row3 col1\" >111864</td>\n",
       "    </tr>\n",
       "    <tr>\n",
       "      <th id=\"T_277e3_level0_row4\" class=\"row_heading level0 row4\" >4</th>\n",
       "      <td id=\"T_277e3_row4_col0\" class=\"data row4 col0\" >Mexico</td>\n",
       "      <td id=\"T_277e3_row4_col1\" class=\"data row4 col1\" >98218</td>\n",
       "    </tr>\n",
       "    <tr>\n",
       "      <th id=\"T_277e3_level0_row5\" class=\"row_heading level0 row5\" >5</th>\n",
       "      <td id=\"T_277e3_row5_col0\" class=\"data row5 col0\" >Pakistan</td>\n",
       "      <td id=\"T_277e3_row5_col1\" class=\"data row5 col1\" >93760</td>\n",
       "    </tr>\n",
       "    <tr>\n",
       "      <th id=\"T_277e3_level0_row6\" class=\"row_heading level0 row6\" >6</th>\n",
       "      <td id=\"T_277e3_row6_col0\" class=\"data row6 col0\" >Ukraine</td>\n",
       "      <td id=\"T_277e3_row6_col1\" class=\"data row6 col1\" >91182</td>\n",
       "    </tr>\n",
       "    <tr>\n",
       "      <th id=\"T_277e3_level0_row7\" class=\"row_heading level0 row7\" >7</th>\n",
       "      <td id=\"T_277e3_row7_col0\" class=\"data row7 col0\" >India</td>\n",
       "      <td id=\"T_277e3_row7_col1\" class=\"data row7 col1\" >81757</td>\n",
       "    </tr>\n",
       "    <tr>\n",
       "      <th id=\"T_277e3_level0_row8\" class=\"row_heading level0 row8\" >8</th>\n",
       "      <td id=\"T_277e3_row8_col0\" class=\"data row8 col0\" >Sri Lanka</td>\n",
       "      <td id=\"T_277e3_row8_col1\" class=\"data row8 col1\" >75102</td>\n",
       "    </tr>\n",
       "    <tr>\n",
       "      <th id=\"T_277e3_level0_row9\" class=\"row_heading level0 row9\" >9</th>\n",
       "      <td id=\"T_277e3_row9_col0\" class=\"data row9 col0\" >Unknown</td>\n",
       "      <td id=\"T_277e3_row9_col1\" class=\"data row9 col1\" >72545</td>\n",
       "    </tr>\n",
       "  </tbody>\n",
       "</table>\n"
      ],
      "text/plain": [
       "<pandas.io.formats.style.Styler at 0x2d0512095e0>"
      ]
     },
     "execution_count": 15,
     "metadata": {},
     "output_type": "execute_result"
    }
   ],
   "source": [
    "# Create a DataFrame \n",
    "countries_top = data.groupby('Country-of-origin')['total-count'].sum().reset_index(name='total-count').sort_values(by ='total-count', ascending=False).head(10)\n",
    "\n",
    "# Show the dataframe\n",
    "countries_top.reset_index(drop=True).style.bar(cmap='cool_r')"
   ]
  },
  {
   "cell_type": "code",
   "execution_count": 16,
   "id": "b2bbefc5",
   "metadata": {
    "scrolled": true
   },
   "outputs": [
    {
     "data": {
      "image/png": "[encoded data removed]",
      "text/plain": [
       "<Figure size 576x288 with 1 Axes>"
      ]
     },
     "metadata": {
      "needs_background": "light"
     },
     "output_type": "display_data"
    }
   ],
   "source": [
    "# Create bar graph\n",
    "plt.figure(figsize=(8,4))\n",
    "sns.barplot(data=countries_top, x='Country-of-origin', y='total-count', palette='rocket')\n",
    "\n",
    "# Create labels and title\n",
    "plt.xlabel('Country of Origin',fontsize=11)\n",
    "plt.ylabel('Total',fontsize=11)\n",
    "plt.title('Countries With Majority of Refugees and Asylum Seekers in Canada (2012-2022)',fontsize=14)\n",
    "\n",
    "# Rotate x-axis labels\n",
    "plt.xticks(rotation=45, ha='right')\n",
    "\n",
    "# Display plot\n",
    "plt.tight_layout()\n",
    "plt.show()"
   ]
  },
  {
   "cell_type": "markdown",
   "id": "f4132621",
   "metadata": {},
   "source": [
    "Between 2012 and 2022, Canada has welcomed a substantial number of refugees and asylum seekers from a diverse range of countries. Notably, Colombia leads the way with 138,891 individuals seeking refuge, likely due to ongoing conflicts and human rights issues. China closely follows with 120,112 refugees, driven by political persecution and societal concerns. Nigeria is another significant contributor, with 112,174 individuals, influenced by conflicts and security worries. Various other countries, including Haiti, Mexico, Pakistan, Ukraine, India, and Sri Lanka, also play a substantial role in this migration pattern."
   ]
  },
  {
   "cell_type": "code",
   "execution_count": 17,
   "id": "19234bb5",
   "metadata": {
    "scrolled": true
   },
   "outputs": [
    {
     "data": {
      "image/png": "[encoded data removed]",
      "text/plain": [
       "<Figure size 576x288 with 1 Axes>"
      ]
     },
     "metadata": {
      "needs_background": "light"
     },
     "output_type": "display_data"
    }
   ],
   "source": [
    "# General trends in number of refugees and asylum seekers\n",
    "\n",
    "# Group the data by year and calculate the sum of each category per year\n",
    "year_counts = data.groupby('Year')[['UNHCR-refugees', 'Asylum-seekers']].sum().reset_index()\n",
    "\n",
    "# Pivot the data to create a suitable format for bar plotting\n",
    "melted_data = pd.melt(year_counts, id_vars=['Year'], var_name='Category', value_name='Count')\n",
    "\n",
    "# Create a bar graph with unstacked, side-by-side bars\n",
    "plt.figure(figsize=(8, 4))\n",
    "sns.barplot(data=melted_data, x='Year', y='Count', hue='Category', palette='rocket')\n",
    "\n",
    "# Adding labels and title\n",
    "plt.xlabel('Year',fontsize=13)\n",
    "plt.ylabel('Count',fontsize=13)\n",
    "plt.title('Total of Refugees and Asylum Seekers in Canada (2012-2022)',fontsize=17)\n",
    "\n",
    "# Display the legend\n",
    "plt.legend()\n",
    "\n",
    "# Display the plot\n",
    "plt.tight_layout()\n",
    "plt.show()"
   ]
  },
  {
   "cell_type": "markdown",
   "id": "48ffd494",
   "metadata": {},
   "source": [
    "- **Peak Refugee Admissions in 2012:** The year 2012 witnessed the highest number of refugees admitted to Canada during this period. It was followed by 2013 and 2014, indicating a peak in refugee admissions during those years.\n",
    "\n",
    "\n",
    "- **Lowest Refugee Admissions in 2016:** In contrast, 2016 saw the lowest number of resettled refugees in Canada. This represents a notable drop in refugee admissions during that year.\n",
    "\n",
    "\n",
    "- **Surge in Asylum Claims in 2022:** The year 2022 recorded the highest number of asylum claims made in Canada during the analyzed period. This was followed by 2019 and 2020, indicating a surge in individuals seeking asylum in these years.\n",
    "\n",
    "\n",
    "- **Lowest Asylum Claims in 2014:** On the other hand, 2014 had the lowest number of asylum claims, followed by 2015 and 2013. This suggests a period of relatively fewer asylum claims during those years."
   ]
  },
  {
   "cell_type": "markdown",
   "id": "439399bb",
   "metadata": {},
   "source": [
    "# 4. Conclusion"
   ]
  },
  {
   "cell_type": "markdown",
   "id": "84515e5c",
   "metadata": {},
   "source": [
    "In conclusion, the project \"Exploring Refugee Data in Canada\" has provided valuable insights into the demographics and trends of refugees and asylum-seekers in Canada between 2012 and 2022. This analysis has significant implications, extending beyond demographics and offering a foundation for various multidisciplinary studies. The data not only informs demographic trends but also plays a crucial role in addressing political, socioeconomic, and human rights aspects. It can guide policy decisions, provide valuable information on labor market dynamics, and offer insights into the impacts on the local economy and education sector.\n",
    "\n",
    "Through exploratory data analysis, we have observed several key findings:\n",
    "\n",
    "- **Top Countries of Origin:** Colombia, China, and Nigeria are the leading countries of origin for refugees admitted to Canada. These individuals are often fleeing persecution, conflict, or humanitarian crises in their home countries.\n",
    "\n",
    "\n",
    "- **Annual Refugee Admissions:** The number of refugees admitted to Canada has shown variations over the years. The highest admission was in 2012, with fluctuations in subsequent years. 2022 marked another peak in refugee admissions.\n",
    "\n",
    "\n",
    "- **Primary Asylum Claims:** The top countries from which Canada receives asylum claims include those of unknown origin, Nigeria, India, Mexico, and Haiti. These claims highlight the need for international protection and safety.\n",
    "\n",
    "\n",
    "- **Yearly Asylum Claims:** The number of asylum claims submitted in Canada has been variable, with a significant increase in 2022. The fluctuations in asylum claims indicate changing global circumstances.\n",
    "\n",
    "\n",
    "- **General Trends:** The overarching patterns in refugee and asylum statistics reveal the highest admissions in 2012, followed by lower numbers in 2016. Asylum claims surged in 2022, while 2014 witnessed the lowest number.\n",
    "\n",
    "\n",
    "This analysis provides valuable data for policymakers, researchers, and organizations working with refugees and asylum-seekers in Canada. It underscores the importance of adapting to changing migration trends and addressing the specific challenges presented in different years. Understanding these patterns is crucial for shaping policies, providing assistance, and ensuring the well-being of displaced populations in Canada."
   ]
  }
 ],
 "metadata": {
  "kernelspec": {
   "display_name": "Python 3 (ipykernel)",
   "language": "python",
   "name": "python3"
  },
  "language_info": {
   "codemirror_mode": {
    "name": "ipython",
    "version": 3
   },
   "file_extension": ".py",
   "mimetype": "text/x-python",
   "name": "python",
   "nbconvert_exporter": "python",
   "pygments_lexer": "ipython3",
   "version": "3.9.12"
  }
 },
 "nbformat": 4,
 "nbformat_minor": 5
}
